{
 "cells": [
  {
   "cell_type": "markdown",
   "id": "efd70f6c",
   "metadata": {},
   "source": [
    "# PYTHON OPERATERS.........\n",
    "  - to perform operations on both variables and values"
   ]
  },
  {
   "cell_type": "markdown",
   "id": "809c42d4",
   "metadata": {},
   "source": [
    " ## ARTHEMATIC OPERATIONS\n",
    " - USED TO PERFORM MATHEMATICAL OPERATIONS\n",
    " - operators\n",
    "     - ** + ** add\n",
    "     - **-** sub\n",
    "     - **'*'** multi\n",
    "     - **'/'** division\n",
    "     - **%** modules\n",
    "     - **'**'** exponential\n",
    "     - **'//'** floor divisin\n",
    "                    "
   ]
  },
  {
   "cell_type": "code",
   "execution_count": 1,
   "id": "a01ef5ef",
   "metadata": {},
   "outputs": [
    {
     "name": "stdout",
     "output_type": "stream",
     "text": [
      "30\n",
      "10\n",
      "200\n",
      "2.0\n",
      "0\n",
      "10240000000000\n",
      "2\n"
     ]
    }
   ],
   "source": [
    "p=20\n",
    "k=10\n",
    "print(p+k)\n",
    "print(p-k)\n",
    "print(p*k)\n",
    "print(p/k)\n",
    "print(p%k)\n",
    "print(p**k)\n",
    "print(p//k)"
   ]
  },
  {
   "cell_type": "markdown",
   "id": "1659714f",
   "metadata": {},
   "source": [
    "## ASSIGNMENT OPERATORS"
   ]
  },
  {
   "cell_type": "code",
   "execution_count": 3,
   "id": "26203a15",
   "metadata": {},
   "outputs": [
    {
     "name": "stdout",
     "output_type": "stream",
     "text": [
      "25\n",
      "19\n",
      "114\n",
      "16.285714285714285\n",
      "4948282554.883029\n",
      "6.883028984069824\n",
      "0.0\n"
     ]
    }
   ],
   "source": [
    "x = 20\n",
    "x += 5\n",
    "print(x)\n",
    "x -=6\n",
    "print(x)\n",
    "x *= 6\n",
    "print(x)\n",
    "x /= 7\n",
    "print(x)\n",
    "x**= 8\n",
    "print(x)\n",
    "x%= 9\n",
    "print(x)\n",
    "x //= 8\n",
    "print(x)"
   ]
  },
  {
   "cell_type": "markdown",
   "id": "2a3d02e9",
   "metadata": {},
   "source": [
    "## COMPARISION OPERATORS\n",
    "  - USED TO COMPARE VALUES\n",
    "    - **'=='**\n",
    "    - **'!='**\n",
    "    -  **'<'**\n",
    "    - **'>'**\n",
    "    - **'<='**\n",
    "      **'>='**\n",
    "       \n",
    "          "
   ]
  },
  {
   "cell_type": "code",
   "execution_count": 5,
   "id": "53744a4b",
   "metadata": {},
   "outputs": [
    {
     "name": "stdout",
     "output_type": "stream",
     "text": [
      "False\n",
      "True\n",
      "True\n",
      "False\n",
      "True\n",
      "False\n"
     ]
    }
   ],
   "source": [
    "p=9\n",
    "k=31\n",
    "print(p==k)\n",
    "print(p!=k)\n",
    "print(p<k)\n",
    "print(p>k)\n",
    "print(p<=k)\n",
    "print(p>=k)"
   ]
  },
  {
   "cell_type": "markdown",
   "id": "eda18bbd",
   "metadata": {},
   "source": [
    "## LOGICAL OPERATORS\n",
    "  - used to compare conditional statements\n",
    "   - operators\n",
    "     - **and**\n",
    "     - **or**\n",
    "     - **not**"
   ]
  },
  {
   "cell_type": "code",
   "execution_count": 8,
   "id": "fd14c0e8",
   "metadata": {},
   "outputs": [
    {
     "name": "stdout",
     "output_type": "stream",
     "text": [
      "True\n",
      "False\n",
      "True\n",
      "False\n"
     ]
    }
   ],
   "source": [
    "x=31\n",
    "print (x<40 and x>30)\n",
    "print (not(x<40 and x>30))\n",
    "print (x>40 or x>30)\n",
    "print (not(x>40 or x>30))"
   ]
  },
  {
   "cell_type": "markdown",
   "id": "e844d45a",
   "metadata": {},
   "source": [
    "## IDENTITY OPERATOR\n",
    "   - USED TO COMAPRE OBJECTS\n",
    "    - OPERATORS\n",
    "       - **is**\n",
    "       - **is not**"
   ]
  },
  {
   "cell_type": "code",
   "execution_count": 10,
   "id": "4122b126",
   "metadata": {},
   "outputs": [
    {
     "name": "stdout",
     "output_type": "stream",
     "text": [
      "False\n",
      "False\n",
      "True\n",
      "True\n",
      "True\n"
     ]
    }
   ],
   "source": [
    "p=9\n",
    "k=31\n",
    "j=9\n",
    "print(p is k)\n",
    "print(p is k is not j)\n",
    "print(p is not k)\n",
    "print (k is not j)\n",
    "print (p is j)"
   ]
  },
  {
   "cell_type": "markdown",
   "id": "1f176bfc",
   "metadata": {},
   "source": [
    "## MEMBERSHIP OPERATOR.....\n",
    "   - USED TO TEST GIVEN SEQUENCE IN PRESENTED OPERATORS\n",
    "    - ***OPERATORS***\n",
    "      - **in**\n",
    "      - **not in**"
   ]
  },
  {
   "cell_type": "code",
   "execution_count": 14,
   "id": "17937eee",
   "metadata": {},
   "outputs": [
    {
     "name": "stdout",
     "output_type": "stream",
     "text": [
      "True\n",
      "False\n",
      "False\n",
      "True\n",
      "True\n"
     ]
    }
   ],
   "source": [
    "a =\"viya\"\n",
    "print(\"v\" in a)\n",
    "print(\"v\" not in a)\n",
    "print (\"y\" not in a)\n",
    "print(\"a\" in a)\n",
    "print(\"viya\" in a)"
   ]
  },
  {
   "cell_type": "markdown",
   "id": "4ec04e9e",
   "metadata": {},
   "source": [
    "## CONTROL FLOW STATEMENTS\n",
    " - CONDITIONAL STATEMENTS\n",
    "   - IF-ELSE STATEMENTS\n",
    " - LOOPING STATEMENT\n",
    "   - WHILE LOOP STATEMENTS\n",
    "   - FOR LOOP STATEMENTS"
   ]
  },
  {
   "cell_type": "code",
   "execution_count": null,
   "id": "11955b12",
   "metadata": {},
   "outputs": [],
   "source": []
  },
  {
   "cell_type": "markdown",
   "id": "38bba400",
   "metadata": {},
   "source": [
    "### IF-ELSE STATEMENT\n"
   ]
  },
  {
   "cell_type": "code",
   "execution_count": null,
   "id": "0254ae50",
   "metadata": {},
   "outputs": [],
   "source": []
  },
  {
   "cell_type": "code",
   "execution_count": null,
   "id": "e563ded9",
   "metadata": {},
   "outputs": [],
   "source": []
  },
  {
   "cell_type": "code",
   "execution_count": 15,
   "id": "4edbf261",
   "metadata": {},
   "outputs": [
    {
     "ename": "SyntaxError",
     "evalue": "invalid syntax (Temp/ipykernel_5092/3826649595.py, line 4)",
     "output_type": "error",
     "traceback": [
      "\u001b[1;36m  File \u001b[1;32m\"C:\\Users\\user3\\AppData\\Local\\Temp/ipykernel_5092/3826649595.py\"\u001b[1;36m, line \u001b[1;32m4\u001b[0m\n\u001b[1;33m    elif:\u001b[0m\n\u001b[1;37m        ^\u001b[0m\n\u001b[1;31mSyntaxError\u001b[0m\u001b[1;31m:\u001b[0m invalid syntax\n"
     ]
    }
   ],
   "source": [
    "#syntax:\n",
    "if boolean_condtion:\n",
    "    statement\n",
    "elif:\n",
    "    statement\n",
    "else:\n",
    "    statement"
   ]
  },
  {
   "cell_type": "code",
   "execution_count": 22,
   "id": "a3a0743e",
   "metadata": {},
   "outputs": [
    {
     "name": "stdout",
     "output_type": "stream",
     "text": [
      "enter your number:85\n",
      "odd number\n"
     ]
    }
   ],
   "source": [
    "# check the given no. is even or odd\n",
    "n= int(input(\"enter your number:\"))\n",
    "if n %2 == 0:\n",
    "    print(\"even number\")\n",
    "else:\n",
    "    print(\"odd number\")"
   ]
  },
  {
   "cell_type": "code",
   "execution_count": 23,
   "id": "e38aa9b0",
   "metadata": {},
   "outputs": [
    {
     "name": "stdout",
     "output_type": "stream",
     "text": [
      "enter your number:88\n",
      "even number\n"
     ]
    }
   ],
   "source": [
    "# check the given no. is even or odd\n",
    "n= int(input(\"enter your number:\"))\n",
    "if n %2 == 0:\n",
    "    print(\"even number\")\n",
    "else:\n",
    "    print(\"odd number\")"
   ]
  },
  {
   "cell_type": "code",
   "execution_count": 24,
   "id": "45fdec68",
   "metadata": {},
   "outputs": [
    {
     "name": "stdout",
     "output_type": "stream",
     "text": [
      "enter your number:95\n",
      "no\n"
     ]
    }
   ],
   "source": [
    "#check the given number is multiples of both 3 and 5\n",
    "n = int(input(\"enter your number:\"))\n",
    "if  n %3 ==0 and n %5 == 0:\n",
    "    print(\"yes\")\n",
    "else:\n",
    "    print(\"no\")"
   ]
  },
  {
   "cell_type": "code",
   "execution_count": 25,
   "id": "30e2e6af",
   "metadata": {},
   "outputs": [
    {
     "name": "stdout",
     "output_type": "stream",
     "text": [
      "enter your number:96\n",
      "no\n"
     ]
    }
   ],
   "source": [
    "#check the given number is multiples of both 3 and 5\n",
    "n = int(input(\"enter your number:\"))\n",
    "if  n %3 == n %5 == 0:\n",
    "    print(\"yes\")\n",
    "else:\n",
    "    print(\"no\")"
   ]
  },
  {
   "cell_type": "code",
   "execution_count": 41,
   "id": "74fdf281",
   "metadata": {},
   "outputs": [
    {
     "name": "stdout",
     "output_type": "stream",
     "text": [
      "enter your number:85.2\n",
      "positive number\n"
     ]
    }
   ],
   "source": [
    "#check the given number is positive or negative or zero\n",
    "n = eval(input(\"enter your number:\"))\n",
    "if n>0:\n",
    "    print(\"positive number\")\n",
    "elif n<0:\n",
    "    print(\"negative number\")\n",
    "else:\n",
    "    print(\"zero\")"
   ]
  },
  {
   "cell_type": "code",
   "execution_count": 40,
   "id": "08e69cce",
   "metadata": {},
   "outputs": [
    {
     "name": "stdout",
     "output_type": "stream",
     "text": [
      "enter your number:89\n",
      "positive number\n"
     ]
    }
   ],
   "source": [
    "#check the given number is positive or negative or zero\n",
    "n = int(input(\"enter your number:\"))\n",
    "if n>0:\n",
    "    print(\"positive number\")\n",
    "elif n<0:\n",
    "    print(\"negative number\")\n",
    "else:\n",
    "    print(\"zero\")"
   ]
  },
  {
   "cell_type": "code",
   "execution_count": 42,
   "id": "327a276e",
   "metadata": {},
   "outputs": [
    {
     "name": "stdout",
     "output_type": "stream",
     "text": [
      "enter your number:8\n",
      "enter your number:9\n",
      "enter your number:10\n",
      "c\n"
     ]
    }
   ],
   "source": [
    "#find large number by taking any 3 inputs \n",
    "a = int(input(\"enter your number:\"))\n",
    "b = int(input(\"enter your number:\"))\n",
    "c = int(input(\"enter your number:\"))\n",
    "if a>b and a>c:\n",
    "    print(\"a\")\n",
    "elif a<b>c:\n",
    "    print(\"b\")\n",
    "else:\n",
    "    print(\"c\")"
   ]
  },
  {
   "cell_type": "code",
   "execution_count": 43,
   "id": "d375fd07",
   "metadata": {},
   "outputs": [
    {
     "name": "stdout",
     "output_type": "stream",
     "text": [
      "enter your number:10\n",
      "enter your number:5\n",
      "enter your number:2\n",
      "a\n"
     ]
    }
   ],
   "source": [
    "#find large number by taking any 3 inputs \n",
    "a = int(input(\"enter your number:\"))\n",
    "b = int(input(\"enter your number:\"))\n",
    "c = int(input(\"enter your number:\"))\n",
    "if a>b and a>c:\n",
    "    print(\"a\")\n",
    "elif a<b>c:\n",
    "    print(\"b\")\n",
    "else:\n",
    "    print(\"c\")"
   ]
  },
  {
   "cell_type": "code",
   "execution_count": 44,
   "id": "8fb0fb74",
   "metadata": {},
   "outputs": [
    {
     "name": "stdout",
     "output_type": "stream",
     "text": [
      "enter your number:8\n",
      "enter your number:88\n",
      "enter your number:2\n",
      "b\n"
     ]
    }
   ],
   "source": [
    "#find large number by taking any 3 inputs \n",
    "a = int(input(\"enter your number:\"))\n",
    "b = int(input(\"enter your number:\"))\n",
    "c = int(input(\"enter your number:\"))\n",
    "if a>b and a>c:\n",
    "    print(\"a\")\n",
    "elif a<b>c:\n",
    "    print(\"b\")\n",
    "else:\n",
    "    print(\"c\")"
   ]
  },
  {
   "cell_type": "code",
   "execution_count": 57,
   "id": "f7a0660d",
   "metadata": {},
   "outputs": [
    {
     "name": "stdout",
     "output_type": "stream",
     "text": [
      "enter your number:25\n",
      "e\n"
     ]
    }
   ],
   "source": [
    "#find the grading system\n",
    "n = int(input(\"enter your number:\"))\n",
    "if n<25:\n",
    "    print(\"f\")\n",
    "elif n>=25 and n<=45:\n",
    "    print(\"e\")\n",
    "elif n>45 and n<=50:\n",
    "    print(\"d\")\n",
    "elif n>50 and n<=60:\n",
    "    print(\"c\")\n",
    "elif n>60 and n<=80:\n",
    "    print(\"b\")\n",
    "else:\n",
    "    print(\"a\")"
   ]
  },
  {
   "cell_type": "code",
   "execution_count": 2,
   "id": "560e18e9",
   "metadata": {},
   "outputs": [
    {
     "name": "stdout",
     "output_type": "stream",
     "text": [
      "enter your number:369\n",
      "no grade\n"
     ]
    }
   ],
   "source": [
    "#find the grading system\n",
    "n = int(input(\"enter your number:\"))\n",
    "if n<25:\n",
    "    print(\"f\")\n",
    "elif n>=25 and n<=45:\n",
    "    print(\"e\")\n",
    "elif n>45 and n<=50:\n",
    "    print(\"d\")\n",
    "elif n>50 and n<=60:\n",
    "    print(\"c\")\n",
    "elif n>60 and n<=80:\n",
    "    print(\"b\")\n",
    "elif n<=100:\n",
    "    print(\"a\")\n",
    "else:\n",
    "    print(\"no grade\")"
   ]
  },
  {
   "cell_type": "code",
   "execution_count": 1,
   "id": "4bb2f53b",
   "metadata": {},
   "outputs": [
    {
     "name": "stdout",
     "output_type": "stream",
     "text": [
      "VIYA\n",
      "VIYA\n",
      "VIYA\n",
      "VIYA\n",
      "VIYA\n",
      "VIYA\n",
      "VIYA\n",
      "VIYA\n",
      "VIYA\n",
      "VIYA\n"
     ]
    }
   ],
   "source": [
    "i = 0\n",
    "while i<10:\n",
    "    print(\"VIYA\")\n",
    "    i= i+1"
   ]
  },
  {
   "cell_type": "code",
   "execution_count": 1,
   "id": "ae40273c",
   "metadata": {},
   "outputs": [
    {
     "name": "stdout",
     "output_type": "stream",
     "text": [
      "0\n",
      "1\n",
      "2\n",
      "3\n",
      "4\n",
      "5\n",
      "6\n",
      "7\n",
      "8\n",
      "9\n",
      "10\n"
     ]
    }
   ],
   "source": [
    "#print 1 to 10\n",
    "i=0\n",
    "while i<11:\n",
    "    print(i)\n",
    "    i=i+1"
   ]
  },
  {
   "cell_type": "code",
   "execution_count": 5,
   "id": "3e48c784",
   "metadata": {},
   "outputs": [
    {
     "name": "stdout",
     "output_type": "stream",
     "text": [
      "2\n",
      "4\n",
      "6\n",
      "8\n",
      "10\n"
     ]
    }
   ],
   "source": [
    "#print even numbers between 1 to 10\n",
    "i=1\n",
    "while i<11:\n",
    "    if i%2== 0:\n",
    "        print(i)\n",
    "    i = i+1\n",
    "   \n"
   ]
  },
  {
   "cell_type": "code",
   "execution_count": 6,
   "id": "11f517e6",
   "metadata": {},
   "outputs": [
    {
     "name": "stdout",
     "output_type": "stream",
     "text": [
      "2  4  6  8  10  "
     ]
    }
   ],
   "source": [
    "#print even numbers between 1 to 10\n",
    "i=1\n",
    "while i<11:\n",
    "    if i%2== 0:\n",
    "        print(i,end=\"  \")\n",
    "    i = i+1\n",
    "   "
   ]
  },
  {
   "cell_type": "code",
   "execution_count": 13,
   "id": "55e56217",
   "metadata": {},
   "outputs": [
    {
     "name": "stdout",
     "output_type": "stream",
     "text": [
      "enter the desired no.12\n",
      "1 2 3 4 6 12 "
     ]
    }
   ],
   "source": [
    "#find the multiples of given no.\n",
    "i=1\n",
    "n= int(input(\"enter the desired no.\"))\n",
    "while i<=n:\n",
    "    if n%i == 0:\n",
    "        print(i,end=\" \")\n",
    "    i=i+1"
   ]
  },
  {
   "cell_type": "code",
   "execution_count": 1,
   "id": "2bba1ba4",
   "metadata": {},
   "outputs": [
    {
     "name": "stdout",
     "output_type": "stream",
     "text": [
      "enter the desired no.96\n",
      "1\n",
      "2\n",
      "3\n",
      "4\n",
      "6\n",
      "8\n",
      "12\n",
      "16\n",
      "24\n",
      "32\n",
      "48\n",
      "96\n"
     ]
    }
   ],
   "source": [
    "#find the multiples of given no.\n",
    "i=1\n",
    "n= int(input(\"enter the desired no.\"))\n",
    "while i<=n:\n",
    "    if n%i == 0:\n",
    "        print(i)\n",
    "    i=i+1"
   ]
  },
  {
   "cell_type": "code",
   "execution_count": null,
   "id": "efb37dee",
   "metadata": {},
   "outputs": [],
   "source": []
  },
  {
   "cell_type": "code",
   "execution_count": null,
   "id": "25117d0b",
   "metadata": {},
   "outputs": [],
   "source": []
  }
 ],
 "metadata": {
  "kernelspec": {
   "display_name": "Python 3 (ipykernel)",
   "language": "python",
   "name": "python3"
  },
  "language_info": {
   "codemirror_mode": {
    "name": "ipython",
    "version": 3
   },
   "file_extension": ".py",
   "mimetype": "text/x-python",
   "name": "python",
   "nbconvert_exporter": "python",
   "pygments_lexer": "ipython3",
   "version": "3.9.7"
  }
 },
 "nbformat": 4,
 "nbformat_minor": 5
}
