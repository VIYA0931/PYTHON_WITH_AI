{
 "cells": [
  {
   "cell_type": "markdown",
   "id": "3848008a",
   "metadata": {},
   "source": [
    "# SINDU(DRUM)\n",
    "# SANDEEP\n",
    "## ANIL\n",
    "### KESAV\n",
    "#### PRUDHVI\n",
    "##### RUPA\n",
    "\n",
    "  - PRUDHVI\n",
    "      - ANIL\n",
    "      - KESAV\n",
    "      - SANDEEP\n",
    "      - SINDHU\n",
    "      - RUPA\n",
    "      \n",
    "  - FONT STYLES\n",
    "       - **BOLD**\n",
    "       - *ITALIC*\n",
    "       - ***BOLD ITALIC***       \n",
    "   # print function\n",
    "       - in python print fuction is used to print specific mesage or text"
   ]
  },
  {
   "cell_type": "code",
   "execution_count": 1,
   "id": "3b74d485",
   "metadata": {},
   "outputs": [
    {
     "name": "stdout",
     "output_type": "stream",
     "text": [
      "HELLO KING PRUDHVI\n"
     ]
    }
   ],
   "source": [
    "print(\"HELLO KING PRUDHVI\")"
   ]
  },
  {
   "cell_type": "code",
   "execution_count": 2,
   "id": "9fb54536",
   "metadata": {},
   "outputs": [
    {
     "name": "stdout",
     "output_type": "stream",
     "text": [
      "pulihora anil\n"
     ]
    }
   ],
   "source": [
    "print(\"pulihora anil\")"
   ]
  },
  {
   "cell_type": "code",
   "execution_count": 3,
   "id": "57a883ad",
   "metadata": {},
   "outputs": [
    {
     "name": "stdout",
     "output_type": "stream",
     "text": [
      "hello viyyapu kesav\n"
     ]
    }
   ],
   "source": [
    "print(\"hello viyyapu kesav\")"
   ]
  },
  {
   "cell_type": "code",
   "execution_count": 4,
   "id": "41691bf6",
   "metadata": {},
   "outputs": [
    {
     "name": "stdout",
     "output_type": "stream",
     "text": [
      "dumari sindhu\n"
     ]
    }
   ],
   "source": [
    "print(\"dumari sindhu\")"
   ]
  },
  {
   "cell_type": "code",
   "execution_count": 5,
   "id": "d7042985",
   "metadata": {},
   "outputs": [
    {
     "name": "stdout",
     "output_type": "stream",
     "text": [
      "heroine rupa\n"
     ]
    }
   ],
   "source": [
    "print(\"heroine rupa\")"
   ]
  },
  {
   "cell_type": "code",
   "execution_count": 7,
   "id": "8b94b91c",
   "metadata": {},
   "outputs": [
    {
     "name": "stdout",
     "output_type": "stream",
     "text": [
      "lasi sandeep\n"
     ]
    }
   ],
   "source": [
    "print(\"lasi sandeep\")"
   ]
  },
  {
   "cell_type": "code",
   "execution_count": 10,
   "id": "8ff61c29",
   "metadata": {},
   "outputs": [
    {
     "name": "stdout",
     "output_type": "stream",
     "text": [
      "hello gorgeous VIYA\n"
     ]
    }
   ],
   "source": [
    "print(\"hello gorgeous VIYA\")"
   ]
  },
  {
   "cell_type": "code",
   "execution_count": 11,
   "id": "35525538",
   "metadata": {},
   "outputs": [
    {
     "name": "stdout",
     "output_type": "stream",
     "text": [
      "helloo world\n",
      "hello mom\n",
      "hello dad\n",
      "bro\n"
     ]
    }
   ],
   "source": [
    "print (\"helloo world\")\n",
    "print (\"hello mom\")\n",
    "print (\"hello dad\")\n",
    "\n",
    "print(\"bro\")"
   ]
  },
  {
   "cell_type": "markdown",
   "id": "a2258e2c",
   "metadata": {},
   "source": [
    "# variable\n",
    "    -to store some data value"
   ]
  },
  {
   "cell_type": "code",
   "execution_count": 21,
   "id": "e6cbebd5",
   "metadata": {},
   "outputs": [
    {
     "name": "stdout",
     "output_type": "stream",
     "text": [
      "931\n"
     ]
    }
   ],
   "source": [
    "a = 931     # single value assigned to single variable\n",
    "print(a)"
   ]
  },
  {
   "cell_type": "code",
   "execution_count": 25,
   "id": "5fa49c4d",
   "metadata": {},
   "outputs": [
    {
     "name": "stdout",
     "output_type": "stream",
     "text": [
      "931 931 931\n"
     ]
    }
   ],
   "source": [
    "a= b= c = 931  #single value is assigned to mutiple variables\n",
    "print(a,b,c)"
   ]
  },
  {
   "cell_type": "code",
   "execution_count": 27,
   "id": "522755ab",
   "metadata": {},
   "outputs": [
    {
     "name": "stdout",
     "output_type": "stream",
     "text": [
      "30 20 10\n"
     ]
    }
   ],
   "source": [
    "a,b,c = 10,20,30\n",
    "print(c,b,a)"
   ]
  },
  {
   "cell_type": "markdown",
   "id": "a1678b30",
   "metadata": {},
   "source": [
    "# input function\n",
    "     - ***used to accept the input from the suer or the admin who is uing the code or data"
   ]
  },
  {
   "cell_type": "code",
   "execution_count": 29,
   "id": "b38a606c",
   "metadata": {},
   "outputs": [
    {
     "name": "stdout",
     "output_type": "stream",
     "text": [
      "enter your nameviya\n",
      "your name is: viya\n",
      "<class 'str'>\n"
     ]
    }
   ],
   "source": [
    "# input as text\n",
    "a = input(\"enter your name\")\n",
    "print(\"your name is:\",(a))\n",
    "print (type(a))"
   ]
  },
  {
   "cell_type": "code",
   "execution_count": 30,
   "id": "a974a324",
   "metadata": {},
   "outputs": [
    {
     "name": "stdout",
     "output_type": "stream",
     "text": [
      "enter your choosen number0931\n",
      "the selected no. 0931\n",
      "<class 'str'>\n"
     ]
    }
   ],
   "source": [
    "#input as number\n",
    "k = input(\"enter your choosen number\")\n",
    "print (\"the selected no.\",(k))\n",
    "print(type(k))"
   ]
  },
  {
   "cell_type": "code",
   "execution_count": 31,
   "id": "d1ed1c20",
   "metadata": {},
   "outputs": [
    {
     "name": "stdout",
     "output_type": "stream",
     "text": [
      "enter your choosen number0931\n",
      "the selected no. 931\n",
      "<class 'int'>\n"
     ]
    }
   ],
   "source": [
    "#input as number\n",
    "k = int(input(\"enter your choosen number\"))\n",
    "print (\"the selected no.\",(k))\n",
    "print(type(k))"
   ]
  },
  {
   "cell_type": "markdown",
   "id": "f69ac20a",
   "metadata": {},
   "source": [
    "# DATA TYPES()):\n",
    "     -"
   ]
  },
  {
   "cell_type": "code",
   "execution_count": 32,
   "id": "d773ecce",
   "metadata": {},
   "outputs": [
    {
     "name": "stdout",
     "output_type": "stream",
     "text": [
      "10\n",
      "<class 'int'>\n"
     ]
    }
   ],
   "source": [
    "# integer\n",
    "k=10\n",
    "print(k)\n",
    "print (type (k))"
   ]
  },
  {
   "cell_type": "code",
   "execution_count": 33,
   "id": "d07cabe2",
   "metadata": {},
   "outputs": [
    {
     "name": "stdout",
     "output_type": "stream",
     "text": [
      "9.31\n",
      "<class 'float'>\n"
     ]
    }
   ],
   "source": [
    "# float\n",
    "k=9.31\n",
    "print(k)\n",
    "print(type(k))"
   ]
  },
  {
   "cell_type": "code",
   "execution_count": 34,
   "id": "d1449b0c",
   "metadata": {},
   "outputs": [
    {
     "name": "stdout",
     "output_type": "stream",
     "text": [
      "prudhvi\n",
      "<class 'str'>\n"
     ]
    }
   ],
   "source": [
    "#string\n",
    "k= \"prudhvi\"\n",
    "print(k)\n",
    "print(type(k))"
   ]
  },
  {
   "cell_type": "code",
   "execution_count": 35,
   "id": "365cab42",
   "metadata": {},
   "outputs": [
    {
     "name": "stdout",
     "output_type": "stream",
     "text": [
      "viya\n",
      "<class 'str'>\n"
     ]
    }
   ],
   "source": [
    "#string\n",
    "k= \"viya\"\n",
    "print(k)\n",
    "print(type(k))"
   ]
  },
  {
   "cell_type": "markdown",
   "id": "d94d45c4",
   "metadata": {},
   "source": [
    "# DATA CONVERSIONS\n"
   ]
  },
  {
   "cell_type": "code",
   "execution_count": 3,
   "id": "c42af7d5",
   "metadata": {},
   "outputs": [
    {
     "name": "stdout",
     "output_type": "stream",
     "text": [
      "48 <class 'int'>\n",
      "48.0 <class 'float'>\n",
      "48 <class 'str'>\n"
     ]
    }
   ],
   "source": [
    "# INTEGER\n",
    "k=48\n",
    "print(k,type(k))\n",
    "f=float(k)\n",
    "print(f,type(f))\n",
    "s=str(k)\n",
    "print(s,type(s))\n"
   ]
  },
  {
   "cell_type": "code",
   "execution_count": 4,
   "id": "f64ab246",
   "metadata": {},
   "outputs": [
    {
     "name": "stdout",
     "output_type": "stream",
     "text": [
      "48 <class 'int'>\n",
      "48.0 <class 'float'>\n",
      "48 <class 'str'>\n"
     ]
    }
   ],
   "source": [
    "k=48\n",
    "print(k,type(k))\n",
    "f=float(k)\n",
    "print(f,type(f))\n",
    "s=str(k)\n",
    "print(s,type(s))"
   ]
  },
  {
   "cell_type": "code",
   "execution_count": 5,
   "id": "3efc376d",
   "metadata": {},
   "outputs": [
    {
     "name": "stdout",
     "output_type": "stream",
     "text": [
      "48.9 <class 'float'>\n",
      "48 <class 'int'>\n",
      "48.9 <class 'str'>\n"
     ]
    }
   ],
   "source": [
    "# float\n",
    "k=48.9\n",
    "print(k,type(k))\n",
    "i=int(k)\n",
    "print(i,type(i))\n",
    "s=str(k)\n",
    "print(s,type(s))"
   ]
  },
  {
   "cell_type": "code",
   "execution_count": 7,
   "id": "c56f6ead",
   "metadata": {},
   "outputs": [
    {
     "name": "stdout",
     "output_type": "stream",
     "text": [
      "48931 <class 'str'>\n",
      "48931 <class 'int'>\n",
      "48931.0 <class 'float'>\n"
     ]
    }
   ],
   "source": [
    "# string\n",
    "k=\"48931\"\n",
    "print(k,type(k))\n",
    "i=int(k)\n",
    "print(i,type(i))\n",
    "f=float(k)\n",
    "print(f,type(f))"
   ]
  },
  {
   "cell_type": "markdown",
   "id": "4d42bffe",
   "metadata": {},
   "source": [
    "# Questionare tym........."
   ]
  },
  {
   "cell_type": "markdown",
   "id": "7edfb337",
   "metadata": {},
   "source": [
    "1.Display three string “Name”, “Is”, “James” as “Name**Is**James”"
   ]
  },
  {
   "cell_type": "code",
   "execution_count": 9,
   "id": "6c0f8ba0",
   "metadata": {},
   "outputs": [
    {
     "name": "stdout",
     "output_type": "stream",
     "text": [
      "name**is**james\n"
     ]
    }
   ],
   "source": [
    "a=\"name\"\n",
    "b=\"**is**\"\n",
    "c=\"james\"\n",
    "print(a+b+c)"
   ]
  },
  {
   "cell_type": "code",
   "execution_count": 10,
   "id": "2021ef15",
   "metadata": {},
   "outputs": [
    {
     "name": "stdout",
     "output_type": "stream",
     "text": [
      "name **is** james\n"
     ]
    }
   ],
   "source": [
    "a=\"name\"\n",
    "b=\"**is**\"\n",
    "c=\"james\"\n",
    "print(a,b,c)"
   ]
  },
  {
   "cell_type": "code",
   "execution_count": 13,
   "id": "710598ab",
   "metadata": {},
   "outputs": [
    {
     "name": "stdout",
     "output_type": "stream",
     "text": [
      "name **is** james\n"
     ]
    }
   ],
   "source": [
    "a=\"name\"\n",
    "b=\"**is**\"\n",
    "c=\"james\"\n",
    "print(a,b,c)"
   ]
  },
  {
   "cell_type": "code",
   "execution_count": 14,
   "id": "5f845ecd",
   "metadata": {},
   "outputs": [
    {
     "name": "stdout",
     "output_type": "stream",
     "text": [
      "enter your namejames\n",
      "name is james\n"
     ]
    }
   ],
   "source": [
    "k=input(\"enter your name\")\n",
    "print(\"name is\",k)"
   ]
  },
  {
   "cell_type": "markdown",
   "id": "5eb67975",
   "metadata": {},
   "source": [
    "2.Write a Python program which accepts the radius of a circle from the user and compute the area .\n"
   ]
  },
  {
   "cell_type": "code",
   "execution_count": 18,
   "id": "5388bbb6",
   "metadata": {},
   "outputs": [
    {
     "name": "stdout",
     "output_type": "stream",
     "text": [
      "enter the radius0.9\n",
      "2.5434\n"
     ]
    }
   ],
   "source": [
    "\n",
    "pi=3.14\n",
    "r=float(input(\"enter the radius\"))\n",
    "print(pi*r*r)"
   ]
  },
  {
   "cell_type": "code",
   "execution_count": 20,
   "id": "196d5a69",
   "metadata": {},
   "outputs": [
    {
     "name": "stdout",
     "output_type": "stream",
     "text": [
      "enter the radius9\n",
      "254.34\n"
     ]
    }
   ],
   "source": [
    "pi=3.14\n",
    "r=int(input(\"enter the radius\"))\n",
    "print(pi*r*r)"
   ]
  },
  {
   "cell_type": "markdown",
   "id": "dd13a01c",
   "metadata": {},
   "source": [
    "Accept two numbers from the user and return their sum, multiplication and division."
   ]
  },
  {
   "cell_type": "code",
   "execution_count": 24,
   "id": "30b4895f",
   "metadata": {},
   "outputs": [
    {
     "name": "stdout",
     "output_type": "stream",
     "text": [
      "8\n",
      "9\n",
      "17 -1 72 0.8888888888888888\n"
     ]
    }
   ],
   "source": [
    "p=int(input())\n",
    "k=int(input())\n",
    "v= p+k\n",
    "i= p-k\n",
    "y= p*k\n",
    "a= p/k\n",
    "print(v,i,y,a)"
   ]
  },
  {
   "cell_type": "markdown",
   "id": "28e29af9",
   "metadata": {},
   "source": [
    "Using input() function, print() function and another function you may need; ask for the current year, then print the answer +50"
   ]
  },
  {
   "cell_type": "code",
   "execution_count": 26,
   "id": "5891000e",
   "metadata": {},
   "outputs": [
    {
     "name": "stdout",
     "output_type": "stream",
     "text": [
      "enter the year2000\n",
      "2050\n"
     ]
    }
   ],
   "source": [
    "k=int(input(\"enter the year\"))\n",
    "K= k+50\n",
    "print(K)"
   ]
  },
  {
   "cell_type": "code",
   "execution_count": null,
   "id": "2502c807",
   "metadata": {},
   "outputs": [],
   "source": []
  }
 ],
 "metadata": {
  "kernelspec": {
   "display_name": "Python 3 (ipykernel)",
   "language": "python",
   "name": "python3"
  },
  "language_info": {
   "codemirror_mode": {
    "name": "ipython",
    "version": 3
   },
   "file_extension": ".py",
   "mimetype": "text/x-python",
   "name": "python",
   "nbconvert_exporter": "python",
   "pygments_lexer": "ipython3",
   "version": "3.9.7"
  }
 },
 "nbformat": 4,
 "nbformat_minor": 5
}
